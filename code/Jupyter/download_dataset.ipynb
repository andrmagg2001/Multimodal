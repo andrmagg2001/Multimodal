{
 "cells": [
  {
   "cell_type": "markdown",
   "id": "5241e731",
   "metadata": {},
   "source": [
    "# Training"
   ]
  },
  {
   "cell_type": "code",
   "execution_count": 3,
   "id": "333d9672",
   "metadata": {},
   "outputs": [],
   "source": [
    "# import stantment\n",
    "import os\n",
    "from pathlib import Path\n",
    "from tqdm import tqdm\n",
    "import kagglehub\n",
    "import zipfile\n",
    "import shutil\n",
    "\n",
    "# costant stantment\n",
    "EXTRACT_DIR = Path(\"../../data/dataset\")"
   ]
  },
  {
   "cell_type": "markdown",
   "id": "af3d74d7",
   "metadata": {},
   "source": [
    "### Download dataset (optional)"
   ]
  },
  {
   "cell_type": "code",
   "execution_count": 4,
   "id": "5922c2cb",
   "metadata": {},
   "outputs": [
    {
     "name": "stdout",
     "output_type": "stream",
     "text": [
      "Directory '../../data/dataset' already exist.\n"
     ]
    }
   ],
   "source": [
    "if EXTRACT_DIR.exists():\n",
    "    print(f\"Directory '{EXTRACT_DIR}' already exist.\")\n",
    "else:\n",
    "    print(\"Directory no found. Start with download...\")\n",
    "    dataset_zip_path = kagglehub.dataset_download(\"jedidiahangekouakou/grid-corpus-dataset-for-training-lipnet\")\n",
    "\n",
    "    if isinstance(dataset_zip_path, (str, Path)):\n",
    "        dataset_zip_path = Path(dataset_zip_path)\n",
    "        \n",
    "        if dataset_zip_path.is_dir():\n",
    "            zip_files = list(dataset_zip_path.glob(\"*.zip\"))\n",
    "            if not zip_files:\n",
    "                raise FileNotFoundError(\"No file .zip founded.\")\n",
    "            dataset_zip_path = zip_files[0]\n",
    "\n",
    "        else:\n",
    "            pass\n",
    "\n",
    "    else:\n",
    "        raise Exception(\"Dataset path not valid.\")\n",
    "    \n",
    "    print(f\"Zip file founded: {dataset_zip_path}\")\n",
    "\n",
    "    with zipfile.ZipFile(dataset_zip_path, 'r') as zip_ref:\n",
    "        files = zip_ref.namelist()\n",
    "        print(f\"Extr of {len(files)} files inside '{EXTRACT_DIR}'...\")\n",
    "        for file in tqdm(files, desc=\"Extr\", unit=\"file\"):\n",
    "            zip_ref.extract(file, EXTRACT_DIR)\n",
    "\n",
    "    print(\"Extr completed!\")\n",
    "\n",
    "    try:\n",
    "        shutil.move(str(dataset_zip_path), str(EXTRACT_DIR))\n",
    "    except Exception:\n",
    "        pass\n"
   ]
  }
 ],
 "metadata": {
  "kernelspec": {
   "display_name": "base",
   "language": "python",
   "name": "python3"
  },
  "language_info": {
   "codemirror_mode": {
    "name": "ipython",
    "version": 3
   },
   "file_extension": ".py",
   "mimetype": "text/x-python",
   "name": "python",
   "nbconvert_exporter": "python",
   "pygments_lexer": "ipython3",
   "version": "3.12.2"
  }
 },
 "nbformat": 4,
 "nbformat_minor": 5
}
